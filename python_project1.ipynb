{
  "nbformat": 4,
  "nbformat_minor": 0,
  "metadata": {
    "colab": {
      "provenance": []
    },
    "kernelspec": {
      "name": "python3",
      "display_name": "Python 3"
    },
    "language_info": {
      "name": "python"
    }
  },
  "cells": [
    {
      "cell_type": "code",
      "execution_count": 1,
      "metadata": {
        "colab": {
          "base_uri": "https://localhost:8080/"
        },
        "id": "hp9FDdE5jCkM",
        "outputId": "a0b41b49-2c10-4875-957c-402afa49acc6"
      },
      "outputs": [
        {
          "output_type": "stream",
          "name": "stdout",
          "text": [
            "1. Which data type is used to store True or False values?\n",
            "Your answer: hareem\n",
            "Wrong. The correct answer is: boolean.\n",
            "\n",
            "2. What is the result of 10 // 3 in Python?\n",
            "Your answer: 89\n",
            "Wrong. The correct answer is: 3.\n",
            "\n",
            "3. What does the len() function return?\n",
            "Your answer: length\n",
            "Correct!\n",
            "\n",
            "4. How do you start a for loop in Python?\n",
            "Your answer: for\n",
            "Correct!\n",
            "\n",
            "5. What function is used to get input from the user?\n",
            "Your answer: input\n",
            "Correct!\n",
            "\n",
            "Game over! Your final score is: 3/5\n"
          ]
        }
      ],
      "source": [
        "# list of questions\n",
        "# store the answers\n",
        "# randomly pick questions\n",
        "# ask the questions\n",
        "# see if they are correct\n",
        "# keep track of the score\n",
        "# tell the user their score\n",
        "\n",
        "import random\n",
        "\n",
        "questions = {\n",
        "    \"What is the keyword to define a function in Python?\": \"def\",\n",
        "    \"Which data type is used to store True or False values?\": \"boolean\",\n",
        "    \"What is the correct file extension for Python files?\": \".py\",\n",
        "    \"Which symbol is used to comment in Python?\": \"#\",\n",
        "    \"What function is used to get input from the user?\": \"input\",\n",
        "    \"How do you start a for loop in Python?\": \"for\",\n",
        "    \"What is the output of 2 ** 3 in Python?\": \"8\",\n",
        "    \"What keyword is used to import a module in Python?\": \"import\",\n",
        "    \"What does the len() function return?\": \"length\",\n",
        "    \"What is the result of 10 // 3 in Python?\": \"3\"\n",
        "}\n",
        "\n",
        "def python_trivia_game():\n",
        "    questions_list = list(questions.keys())\n",
        "    total_questions = 5\n",
        "    score = 0\n",
        "\n",
        "    selected_questions = random.sample(questions_list, total_questions)\n",
        "\n",
        "    for idx, question in enumerate(selected_questions):\n",
        "        print(f\"{idx + 1}. {question}\")\n",
        "        user_answer = input(\"Your answer: \").lower().strip()\n",
        "        correct_answer = questions[question]\n",
        "\n",
        "        if user_answer == correct_answer.lower():\n",
        "            print(\"Correct!\\n\")\n",
        "            score += 1\n",
        "        else:\n",
        "            print(f\"Wrong. The correct answer is: {correct_answer}.\\n\")\n",
        "\n",
        "    print(f\"Game over! Your final score is: {score}/{total_questions}\")\n",
        "\n",
        "python_trivia_game()"
      ]
    },
    {
      "cell_type": "code",
      "source": [],
      "metadata": {
        "id": "1US4ntmijDOF"
      },
      "execution_count": null,
      "outputs": []
    }
  ]
}